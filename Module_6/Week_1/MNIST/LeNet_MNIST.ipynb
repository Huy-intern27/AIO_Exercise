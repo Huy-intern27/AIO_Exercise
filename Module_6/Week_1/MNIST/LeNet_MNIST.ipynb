{
  "nbformat": 4,
  "nbformat_minor": 0,
  "metadata": {
    "colab": {
      "provenance": []
    },
    "kernelspec": {
      "name": "python3",
      "display_name": "Python 3"
    },
    "language_info": {
      "name": "python"
    }
  },
  "cells": [
    {
      "cell_type": "code",
      "source": [
        "import os\n",
        "import random\n",
        "import numpy as np\n",
        "import torch\n",
        "import time\n",
        "\n",
        "import torch.nn as nn\n",
        "import torch.nn.functional as F\n",
        "import torch.optim as optim\n",
        "import torch.utils.data as data\n",
        "\n",
        "import torchvision.datasets as datasets\n",
        "import torchvision.transforms as transforms\n",
        "\n",
        "import torchsummary as summary\n",
        "\n",
        "import matplotlib.pyplot as plt\n",
        "from PIL import Image"
      ],
      "metadata": {
        "id": "2b6EM9dmT4YP"
      },
      "execution_count": 1,
      "outputs": []
    },
    {
      "cell_type": "code",
      "source": [
        "ROOT = './data'\n",
        "\n",
        "train_set = datasets.MNIST(\n",
        "    root=ROOT,\n",
        "    train=True,\n",
        "    download=True\n",
        ")\n",
        "test_set = datasets.MNIST(\n",
        "    root=ROOT,\n",
        "    train=False,\n",
        "    download=True\n",
        ")"
      ],
      "metadata": {
        "colab": {
          "base_uri": "https://localhost:8080/"
        },
        "id": "KupGlf2hUjM_",
        "outputId": "0acf2ee2-b040-45e3-e8f1-6c270e7fd8d2"
      },
      "execution_count": 2,
      "outputs": [
        {
          "output_type": "stream",
          "name": "stdout",
          "text": [
            "Downloading http://yann.lecun.com/exdb/mnist/train-images-idx3-ubyte.gz\n",
            "Failed to download (trying next):\n",
            "HTTP Error 403: Forbidden\n",
            "\n",
            "Downloading https://ossci-datasets.s3.amazonaws.com/mnist/train-images-idx3-ubyte.gz\n",
            "Downloading https://ossci-datasets.s3.amazonaws.com/mnist/train-images-idx3-ubyte.gz to ./data/MNIST/raw/train-images-idx3-ubyte.gz\n"
          ]
        },
        {
          "output_type": "stream",
          "name": "stderr",
          "text": [
            "100%|██████████| 9.91M/9.91M [00:00<00:00, 16.2MB/s]\n"
          ]
        },
        {
          "output_type": "stream",
          "name": "stdout",
          "text": [
            "Extracting ./data/MNIST/raw/train-images-idx3-ubyte.gz to ./data/MNIST/raw\n",
            "\n",
            "Downloading http://yann.lecun.com/exdb/mnist/train-labels-idx1-ubyte.gz\n",
            "Failed to download (trying next):\n",
            "HTTP Error 403: Forbidden\n",
            "\n",
            "Downloading https://ossci-datasets.s3.amazonaws.com/mnist/train-labels-idx1-ubyte.gz\n",
            "Downloading https://ossci-datasets.s3.amazonaws.com/mnist/train-labels-idx1-ubyte.gz to ./data/MNIST/raw/train-labels-idx1-ubyte.gz\n"
          ]
        },
        {
          "output_type": "stream",
          "name": "stderr",
          "text": [
            "100%|██████████| 28.9k/28.9k [00:00<00:00, 495kB/s]\n"
          ]
        },
        {
          "output_type": "stream",
          "name": "stdout",
          "text": [
            "Extracting ./data/MNIST/raw/train-labels-idx1-ubyte.gz to ./data/MNIST/raw\n",
            "\n",
            "Downloading http://yann.lecun.com/exdb/mnist/t10k-images-idx3-ubyte.gz\n",
            "Failed to download (trying next):\n",
            "HTTP Error 403: Forbidden\n",
            "\n",
            "Downloading https://ossci-datasets.s3.amazonaws.com/mnist/t10k-images-idx3-ubyte.gz\n",
            "Downloading https://ossci-datasets.s3.amazonaws.com/mnist/t10k-images-idx3-ubyte.gz to ./data/MNIST/raw/t10k-images-idx3-ubyte.gz\n"
          ]
        },
        {
          "output_type": "stream",
          "name": "stderr",
          "text": [
            "100%|██████████| 1.65M/1.65M [00:00<00:00, 4.53MB/s]\n"
          ]
        },
        {
          "output_type": "stream",
          "name": "stdout",
          "text": [
            "Extracting ./data/MNIST/raw/t10k-images-idx3-ubyte.gz to ./data/MNIST/raw\n",
            "\n",
            "Downloading http://yann.lecun.com/exdb/mnist/t10k-labels-idx1-ubyte.gz\n",
            "Failed to download (trying next):\n",
            "HTTP Error 403: Forbidden\n",
            "\n",
            "Downloading https://ossci-datasets.s3.amazonaws.com/mnist/t10k-labels-idx1-ubyte.gz\n",
            "Downloading https://ossci-datasets.s3.amazonaws.com/mnist/t10k-labels-idx1-ubyte.gz to ./data/MNIST/raw/t10k-labels-idx1-ubyte.gz\n"
          ]
        },
        {
          "output_type": "stream",
          "name": "stderr",
          "text": [
            "100%|██████████| 4.54k/4.54k [00:00<00:00, 3.89MB/s]"
          ]
        },
        {
          "output_type": "stream",
          "name": "stdout",
          "text": [
            "Extracting ./data/MNIST/raw/t10k-labels-idx1-ubyte.gz to ./data/MNIST/raw\n",
            "\n"
          ]
        },
        {
          "output_type": "stream",
          "name": "stderr",
          "text": [
            "\n"
          ]
        }
      ]
    },
    {
      "cell_type": "code",
      "source": [
        "train_ratio = 0.9\n",
        "train_size = int(len(train_set) * train_ratio)\n",
        "val_size = len(train_set) - train_size\n",
        "\n",
        "train_data, val_data = data.random_split(\n",
        "    train_set,\n",
        "    [train_size, val_size]\n",
        ")"
      ],
      "metadata": {
        "id": "Jt6zcKJbVuRG"
      },
      "execution_count": 3,
      "outputs": []
    },
    {
      "cell_type": "code",
      "source": [
        "mean = train_data.dataset.data.float().mean() / 255\n",
        "std = train_data.dataset.data.float().std() / 255\n",
        "\n",
        "train_transforms = transforms.Compose([\n",
        "    transforms.ToTensor(),\n",
        "    transforms.Normalize(mean=[mean], std=[std])\n",
        "])\n",
        "test_transforms = transforms.Compose([\n",
        "    transforms.ToTensor(),\n",
        "    transforms.Normalize(mean=[mean], std=[std])\n",
        "])\n",
        "\n",
        "train_data.dataset.transform = train_transforms\n",
        "val_data.dataset.transform = test_transforms"
      ],
      "metadata": {
        "id": "LKHnJMH3WkUf"
      },
      "execution_count": 4,
      "outputs": []
    },
    {
      "cell_type": "code",
      "source": [
        "BATCH_SIZE = 256\n",
        "\n",
        "train_loader = data.DataLoader(\n",
        "    train_data,\n",
        "    batch_size=BATCH_SIZE,\n",
        "    shuffle=True\n",
        ")\n",
        "val_loader = data.DataLoader(\n",
        "    val_data,\n",
        "    batch_size=BATCH_SIZE\n",
        ")"
      ],
      "metadata": {
        "id": "IeenVPGPYnZO"
      },
      "execution_count": 5,
      "outputs": []
    },
    {
      "cell_type": "code",
      "source": [
        "class LeNetClassifier(nn.Module):\n",
        "  def __init__(self, num_classes):\n",
        "    super(LeNetClassifier, self).__init__()\n",
        "    self.conv1 = nn.Conv2d(1, 6, kernel_size=5, padding='same')\n",
        "    self.avg1 = nn.AvgPool2d(kernel_size=2)\n",
        "    self.conv2 = nn.Conv2d(6, 16, kernel_size=5)\n",
        "    self.avg2 = nn.AvgPool2d(kernel_size=2)\n",
        "    self.flatten = nn.Flatten()\n",
        "    self.fc_1 = nn.Linear(5*5*16, 120)\n",
        "    self.fc_2 = nn.Linear(120, 84)\n",
        "    self.fc_3 = nn.Linear(84, num_classes)\n",
        "\n",
        "  def forward(self, x):\n",
        "    outputs = self.conv1(x)\n",
        "    outputs = self.avg1(outputs)\n",
        "    outputs = F.relu(outputs)\n",
        "\n",
        "    outputs = self.conv2(outputs)\n",
        "    outputs = self.avg2(outputs)\n",
        "    outputs = F.relu(outputs)\n",
        "\n",
        "    outputs = self.flatten(outputs)\n",
        "    outputs = self.fc_1(outputs)\n",
        "    outputs = self.fc_2(outputs)\n",
        "    outputs = self.fc_3(outputs)\n",
        "\n",
        "    return outputs"
      ],
      "metadata": {
        "id": "OuGHI7M1cUwp"
      },
      "execution_count": 6,
      "outputs": []
    },
    {
      "cell_type": "code",
      "source": [
        "def train(model, device, train_loader, optimizer, criterion, log_interval=50, epoch=0):\n",
        "  model.train()\n",
        "  losses = []\n",
        "  total_acc, total_count = 0.0, 0.0\n",
        "  start_time = time.time()\n",
        "\n",
        "  for idx, (inputs, targets) in enumerate(train_loader):\n",
        "    inputs, targets = inputs.to(device), targets.to(device)\n",
        "\n",
        "    optimizer.zero_grad()\n",
        "\n",
        "    predictions = model(inputs)\n",
        "\n",
        "    loss = criterion(predictions, targets)\n",
        "    losses.append(loss.item())\n",
        "    loss.backward()\n",
        "\n",
        "    torch.nn.utils.clip_grad_norm_(model.parameters(), 0.1)\n",
        "    optimizer.step()\n",
        "\n",
        "    total_acc += (predictions.argmax(1) == targets).sum().item()\n",
        "    total_count += targets.size(0)\n",
        "    if idx % log_interval == 0 and idx > 0:\n",
        "      elpsed = time.time() - start_time\n",
        "      print(f\"| epoch {epoch:3d} | {idx:5d}/{len(train_loader):5d} batches \"\n",
        "            f\"| accuracy {total_acc / total_count:8.3f}\")\n",
        "      total_acc, total_count = 0.0, 0.0\n",
        "      start_time = time.time()\n",
        "\n",
        "  epoch_acc = total_acc / total_count\n",
        "  epoch_loss = sum(losses) / len(losses)\n",
        "\n",
        "  return epoch_acc, epoch_loss"
      ],
      "metadata": {
        "id": "7nZ3outmhvEC"
      },
      "execution_count": 7,
      "outputs": []
    },
    {
      "cell_type": "code",
      "source": [
        "def evaluate(model, device, val_loader, criterion):\n",
        "  model.eval()\n",
        "  losses = []\n",
        "  total_acc, total_count = 0.0, 0.0\n",
        "  with torch.no_grad():\n",
        "    for idx, (inputs, targets) in enumerate(val_loader):\n",
        "      inputs, targets = inputs.to(device), targets.to(device)\n",
        "      predictions = model(inputs)\n",
        "      loss = criterion(predictions, targets)\n",
        "      losses.append(loss.item())\n",
        "      total_acc += (predictions.argmax(1) == targets).sum().item()\n",
        "      total_count += targets.size(0)\n",
        "\n",
        "    epoch_acc = total_acc / total_count\n",
        "    epoch_loss = sum(losses) / len(losses)\n",
        "\n",
        "  return epoch_acc, epoch_loss"
      ],
      "metadata": {
        "id": "arj8_ADOf-JN"
      },
      "execution_count": 8,
      "outputs": []
    },
    {
      "cell_type": "code",
      "source": [
        "num_classes = len(train_data.dataset.classes)\n",
        "\n",
        "device = torch.device('cuda' if torch.cuda.is_available() else 'cpu')\n",
        "\n",
        "lenet_model = LeNetClassifier(num_classes)\n",
        "lenet_model.to(device)\n",
        "\n",
        "optimizer = optim.Adam(lenet_model.parameters())\n",
        "criterion = nn.CrossEntropyLoss()\n",
        "\n",
        "num_epochs = 10\n",
        "save_model = './model'\n",
        "os.makedirs(save_model, exist_ok=True)\n",
        "\n",
        "train_accs, train_losses = [], []\n",
        "eval_accs, eval_losses = [], []\n",
        "best_loss_eval = 100\n",
        "\n",
        "for epoch in range(1, num_epochs+1):\n",
        "  epoch_start_time = time.time()\n",
        "\n",
        "  train_acc, train_loss = train(\n",
        "      lenet_model, device, train_loader, optimizer, criterion, epoch=epoch\n",
        "  )\n",
        "  train_accs.append(train_acc)\n",
        "  train_losses.append(train_loss)\n",
        "\n",
        "  eval_acc, eval_loss = evaluate(lenet_model, device, val_loader, criterion)\n",
        "  eval_accs.append(eval_acc)\n",
        "  eval_losses.append(eval_loss)\n",
        "\n",
        "  if eval_loss < best_loss_eval:\n",
        "    best_loss_eval = eval_loss\n",
        "    torch.save(lenet_model.state_dict(), save_model + '/lenet_model.pt')\n",
        "\n",
        "  print(\"-\" * 59)\n",
        "  print(f\"| End of epoch {epoch:3d} | Time : {time.time() - epoch_start_time:5.2f}s \"\n",
        "        f\"| Train Accuracy {train_acc:8.3f} | Train Loss {train_loss:8.3f} \"\n",
        "        f\"| Valid Accuracy {eval_acc:8.3f} | Valid Loss {eval_loss:8.3f}\")\n",
        "  print(\"-\" * 59)\n",
        "\n",
        "  lenet_model.load_state_dict(torch.load(save_model + '/lenet_model.pt'))\n",
        "  lenet_model.eval()"
      ],
      "metadata": {
        "colab": {
          "base_uri": "https://localhost:8080/"
        },
        "id": "A5y_-IAChwrX",
        "outputId": "05eb5a17-f84a-4cd4-e919-0215d95f08cc"
      },
      "execution_count": 9,
      "outputs": [
        {
          "output_type": "stream",
          "name": "stdout",
          "text": [
            "| epoch   1 |    50/  211 batches | accuracy    0.687\n",
            "| epoch   1 |   100/  211 batches | accuracy    0.884\n",
            "| epoch   1 |   150/  211 batches | accuracy    0.927\n",
            "| epoch   1 |   200/  211 batches | accuracy    0.945\n",
            "-----------------------------------------------------------\n",
            "| End of epoch   1 | Time : 28.11s | Train Accuracy    0.954 | Train Loss    0.473 | Valid Accuracy    0.958 | Valid Loss    0.150\n",
            "-----------------------------------------------------------\n"
          ]
        },
        {
          "output_type": "stream",
          "name": "stderr",
          "text": [
            "<ipython-input-9-bcbfcddc9dc5>:42: FutureWarning: You are using `torch.load` with `weights_only=False` (the current default value), which uses the default pickle module implicitly. It is possible to construct malicious pickle data which will execute arbitrary code during unpickling (See https://github.com/pytorch/pytorch/blob/main/SECURITY.md#untrusted-models for more details). In a future release, the default value for `weights_only` will be flipped to `True`. This limits the functions that could be executed during unpickling. Arbitrary objects will no longer be allowed to be loaded via this mode unless they are explicitly allowlisted by the user via `torch.serialization.add_safe_globals`. We recommend you start setting `weights_only=True` for any use case where you don't have full control of the loaded file. Please open an issue on GitHub for any issues related to this experimental feature.\n",
            "  lenet_model.load_state_dict(torch.load(save_model + '/lenet_model.pt'))\n"
          ]
        },
        {
          "output_type": "stream",
          "name": "stdout",
          "text": [
            "| epoch   2 |    50/  211 batches | accuracy    0.961\n",
            "| epoch   2 |   100/  211 batches | accuracy    0.967\n",
            "| epoch   2 |   150/  211 batches | accuracy    0.968\n",
            "| epoch   2 |   200/  211 batches | accuracy    0.970\n",
            "-----------------------------------------------------------\n",
            "| End of epoch   2 | Time : 27.69s | Train Accuracy    0.973 | Train Loss    0.108 | Valid Accuracy    0.972 | Valid Loss    0.090\n",
            "-----------------------------------------------------------\n",
            "| epoch   3 |    50/  211 batches | accuracy    0.974\n",
            "| epoch   3 |   100/  211 batches | accuracy    0.977\n",
            "| epoch   3 |   150/  211 batches | accuracy    0.979\n",
            "| epoch   3 |   200/  211 batches | accuracy    0.977\n",
            "-----------------------------------------------------------\n",
            "| End of epoch   3 | Time : 28.85s | Train Accuracy    0.980 | Train Loss    0.077 | Valid Accuracy    0.976 | Valid Loss    0.081\n",
            "-----------------------------------------------------------\n",
            "| epoch   4 |    50/  211 batches | accuracy    0.980\n",
            "| epoch   4 |   100/  211 batches | accuracy    0.979\n",
            "| epoch   4 |   150/  211 batches | accuracy    0.981\n",
            "| epoch   4 |   200/  211 batches | accuracy    0.980\n",
            "-----------------------------------------------------------\n",
            "| End of epoch   4 | Time : 28.61s | Train Accuracy    0.981 | Train Loss    0.064 | Valid Accuracy    0.982 | Valid Loss    0.065\n",
            "-----------------------------------------------------------\n",
            "| epoch   5 |    50/  211 batches | accuracy    0.984\n",
            "| epoch   5 |   100/  211 batches | accuracy    0.983\n",
            "| epoch   5 |   150/  211 batches | accuracy    0.983\n",
            "| epoch   5 |   200/  211 batches | accuracy    0.983\n",
            "-----------------------------------------------------------\n",
            "| End of epoch   5 | Time : 27.87s | Train Accuracy    0.982 | Train Loss    0.055 | Valid Accuracy    0.983 | Valid Loss    0.065\n",
            "-----------------------------------------------------------\n",
            "| epoch   6 |    50/  211 batches | accuracy    0.983\n",
            "| epoch   6 |   100/  211 batches | accuracy    0.981\n",
            "| epoch   6 |   150/  211 batches | accuracy    0.983\n",
            "| epoch   6 |   200/  211 batches | accuracy    0.983\n",
            "-----------------------------------------------------------\n",
            "| End of epoch   6 | Time : 27.80s | Train Accuracy    0.984 | Train Loss    0.056 | Valid Accuracy    0.982 | Valid Loss    0.064\n",
            "-----------------------------------------------------------\n",
            "| epoch   7 |    50/  211 batches | accuracy    0.983\n",
            "| epoch   7 |   100/  211 batches | accuracy    0.986\n",
            "| epoch   7 |   150/  211 batches | accuracy    0.984\n",
            "| epoch   7 |   200/  211 batches | accuracy    0.985\n",
            "-----------------------------------------------------------\n",
            "| End of epoch   7 | Time : 27.82s | Train Accuracy    0.983 | Train Loss    0.052 | Valid Accuracy    0.982 | Valid Loss    0.063\n",
            "-----------------------------------------------------------\n",
            "| epoch   8 |    50/  211 batches | accuracy    0.987\n",
            "| epoch   8 |   100/  211 batches | accuracy    0.984\n",
            "| epoch   8 |   150/  211 batches | accuracy    0.985\n",
            "| epoch   8 |   200/  211 batches | accuracy    0.984\n",
            "-----------------------------------------------------------\n",
            "| End of epoch   8 | Time : 28.68s | Train Accuracy    0.991 | Train Loss    0.046 | Valid Accuracy    0.986 | Valid Loss    0.050\n",
            "-----------------------------------------------------------\n",
            "| epoch   9 |    50/  211 batches | accuracy    0.987\n",
            "| epoch   9 |   100/  211 batches | accuracy    0.987\n",
            "| epoch   9 |   150/  211 batches | accuracy    0.987\n",
            "| epoch   9 |   200/  211 batches | accuracy    0.987\n",
            "-----------------------------------------------------------\n",
            "| End of epoch   9 | Time : 28.19s | Train Accuracy    0.984 | Train Loss    0.043 | Valid Accuracy    0.985 | Valid Loss    0.058\n",
            "-----------------------------------------------------------\n",
            "| epoch  10 |    50/  211 batches | accuracy    0.988\n",
            "| epoch  10 |   100/  211 batches | accuracy    0.986\n",
            "| epoch  10 |   150/  211 batches | accuracy    0.986\n",
            "| epoch  10 |   200/  211 batches | accuracy    0.987\n",
            "-----------------------------------------------------------\n",
            "| End of epoch  10 | Time : 27.91s | Train Accuracy    0.989 | Train Loss    0.042 | Valid Accuracy    0.983 | Valid Loss    0.057\n",
            "-----------------------------------------------------------\n"
          ]
        }
      ]
    },
    {
      "cell_type": "code",
      "source": [
        "fig, ax = plt.subplots(1, 2, figsize=(12, 5))\n",
        "\n",
        "ax[0].plot(train_accs, color='green')\n",
        "ax[0].plot(eval_accs, color='red')\n",
        "ax[0].set(xlabel='Epoch', ylabel='Accuracy')\n",
        "\n",
        "ax[1].plot(train_losses, color='green')\n",
        "ax[1].plot(eval_losses, color='red')\n",
        "ax[1].set(xlabel='Epoch', ylabel='Loss')\n",
        "ax[1].legend(['Training', 'Evaluation'])\n",
        "\n",
        "plt.show()"
      ],
      "metadata": {
        "colab": {
          "base_uri": "https://localhost:8080/",
          "height": 465
        },
        "id": "d4ikLZuWiSpo",
        "outputId": "97ea558f-a5bd-42df-f81f-70808513c600"
      },
      "execution_count": 10,
      "outputs": [
        {
          "output_type": "display_data",
          "data": {
            "text/plain": [
              "<Figure size 1200x500 with 2 Axes>"
            ],
            "image/png": "[encoded data removed]"
          },
          "metadata": {}
        }
      ]
    },
    {
      "cell_type": "code",
      "source": [
        "test_set.transform = test_transforms\n",
        "test_loader = data.DataLoader(\n",
        "    test_set,\n",
        "    batch_size=BATCH_SIZE\n",
        ")\n",
        "test_acc, test_loss = evaluate(lenet_model, device, test_loader, criterion)\n",
        "test_acc, test_loss"
      ],
      "metadata": {
        "colab": {
          "base_uri": "https://localhost:8080/"
        },
        "id": "xcFaRZMB3wPD",
        "outputId": "b7a4401f-3362-43cb-c1c9-64975e1f8ec2"
      },
      "execution_count": 11,
      "outputs": [
        {
          "output_type": "execute_result",
          "data": {
            "text/plain": [
              "(0.9852, 0.04195387559666415)"
            ]
          },
          "metadata": {},
          "execution_count": 11
        }
      ]
    }
  ]
}
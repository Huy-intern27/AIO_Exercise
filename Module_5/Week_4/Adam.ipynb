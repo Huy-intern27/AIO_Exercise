{
  "nbformat": 4,
  "nbformat_minor": 0,
  "metadata": {
    "colab": {
      "provenance": []
    },
    "kernelspec": {
      "name": "python3",
      "display_name": "Python 3"
    },
    "language_info": {
      "name": "python"
    }
  },
  "cells": [
    {
      "cell_type": "markdown",
      "source": [
        "##1. Giới thiệu bài tập\n",
        "Mục tiêu của bài tập là tìm điểm tối ưu (minimum) của hàm số $f(w_1, w_2) = 0.1w_1^2 + 2w_2^2$ sử dụng thuật toán Adam.\n",
        "\n",
        "##2. Thực hiện tính toán\n",
        "###2.1 Epoch 1\n",
        "- **STEP1**: Tính gradient $dW$:\n",
        "\n",
        "$\\frac{\\partial f}{\\partial w_1} = 0.2w_1, \\quad \\frac{\\partial f}{\\partial w_2} = 4w_2$\n",
        "\n",
        "- **STEP2**: Tính giá trị $V_{1, t}$ và $V_{2, t}$:\n",
        "\n",
        "$V_{1, t} = β_1 V_{1, t-1} + (1 - β_1)(0.2w_1)$\n",
        "\n",
        "$V_{1, corr} = \\frac{V_{1,t}}{1 - \\beta_1^t}$\n",
        "\n",
        "$V_{2, t} = β_1 V_{2, t-1} + (1 - β_1)(4w_2)$\n",
        "\n",
        "$V_{2, corr} = \\frac{V_{2, t}}{1 - \\beta_1^t}$\n",
        "\n",
        "- **STEP3**: Tính giá trị $S_{1, t}$ và $S_{2, t}$:\n",
        "\n",
        "$S_{1,t} = γS_{1,t-1} + (1 - γ)(0.2w_1)^2$\n",
        "\n",
        "$S_{1,corr} = \\frac{S_{1, t}}{1 - \\beta_2^t}$\n",
        "\n",
        "$S_{2, t} = γS_{2, t-1} + (1 - γ)(4w_2)^2$\n",
        "\n",
        "$S_{2,corr} = \\frac{S_{2, t}}{1 - \\beta_2^t}$\n",
        "\n",
        "- **STEP4**: Cập nhật $w_1$ và $w_2$:\n",
        "\n",
        "$w_1 = w_1 - \\alpha \\cdot \\frac{V_{1, corr}}{\\sqrt{S_{1, corr}} + ϵ}$\n",
        "\n",
        "$w_2 = w_2 - \\alpha \\cdot \\frac{{V_{2, corr}}}{\\sqrt{S_{2, corr}} + \\epsilon}$\n",
        "\n",
        "###2.2 Epoch 2\n",
        "- Thực hiện tính toán đối với $w_1$ và $w_2$ tương tự các bước **STEP1**, **STEP2** và **STEP3** như epoch 1."
      ],
      "metadata": {
        "id": "rcxMrThq6QPe"
      }
    },
    {
      "cell_type": "code",
      "source": [
        "import numpy as np"
      ],
      "metadata": {
        "id": "THHRmra3Et4Y"
      },
      "execution_count": 1,
      "outputs": []
    },
    {
      "cell_type": "code",
      "execution_count": 2,
      "metadata": {
        "id": "Vba-Xouy6O95"
      },
      "outputs": [],
      "source": [
        "def df_w(W):\n",
        "  dw_1 = 0.2 * W[0]\n",
        "  dw_2 = 4 * W[1]\n",
        "  dW = np.array([dw_1, dw_2])\n",
        "  return dW"
      ]
    },
    {
      "cell_type": "code",
      "source": [
        "def Adam(W, dW, lr, V, S, beta1, beta2, t):\n",
        "  epsilon = 1e-6\n",
        "  V = beta1 * V + (1 - beta1) * dW\n",
        "  V_corr = V / (1 - beta1 ** t)\n",
        "  S = beta2 * S + (1 - beta2) * dW ** 2\n",
        "  S_corr = S / (1 - beta2 ** t)\n",
        "  W = W - lr * (V_corr / (np.sqrt(S_corr) + epsilon))\n",
        "  return V, S, W"
      ],
      "metadata": {
        "id": "RA1TLVT4DECR"
      },
      "execution_count": 3,
      "outputs": []
    },
    {
      "cell_type": "code",
      "source": [
        "def train_p1(Adam, lr, epochs):\n",
        "  W = np.array([-5, -2], dtype=np.float32)\n",
        "  V = np.array([0, 0], dtype=np.float32)\n",
        "  S = np.array([0, 0], dtype=np.float32)\n",
        "  results = [W]\n",
        "  for epoch in range(epochs):\n",
        "    dW = df_w(W)\n",
        "    V, S, W = Adam(W, dW, lr, V, S, 0.9, 0.999, epoch + 1)\n",
        "    results.append(W)\n",
        "  return results"
      ],
      "metadata": {
        "id": "umjiKzlVKW6s"
      },
      "execution_count": 4,
      "outputs": []
    },
    {
      "cell_type": "code",
      "source": [
        "results = train_p1(Adam, 0.2, 30)\n",
        "results"
      ],
      "metadata": {
        "colab": {
          "base_uri": "https://localhost:8080/"
        },
        "id": "aPuTtcloNCsp",
        "outputId": "bfddbafd-a8d0-42b2-f7b3-2cdc0ee5885f"
      },
      "execution_count": 5,
      "outputs": [
        {
          "output_type": "execute_result",
          "data": {
            "text/plain": [
              "[array([-5., -2.], dtype=float32),\n",
              " array([-4.8000002 , -1.80000002]),\n",
              " array([-4.60025478, -1.60082451]),\n",
              " array([-4.40094848, -1.40317262]),\n",
              " array([-4.20227764, -1.20787822]),\n",
              " array([-4.00445033, -1.01592745]),\n",
              " array([-3.80768638, -0.82847307]),\n",
              " array([-3.61221732, -0.64684159]),\n",
              " array([-3.41828623, -0.47252765]),\n",
              " array([-3.22614739, -0.30716934]),\n",
              " array([-3.03606592, -0.15249855]),\n",
              " array([-2.84831706, -0.01026326]),\n",
              " array([-2.66318543,  0.11787552]),\n",
              " array([-2.480964  ,  0.23046161]),\n",
              " array([-2.30195279,  0.3263587 ]),\n",
              " array([-2.12645742,  0.40484195]),\n",
              " array([-1.95478732,  0.46564961]),\n",
              " array([-1.7872537 ,  0.50898799]),\n",
              " array([-1.62416726,  0.53549442]),\n",
              " array([-1.46583566,  0.54617144]),\n",
              " array([-1.31256067,  0.54230812]),\n",
              " array([-1.16463526,  0.52540206]),\n",
              " array([-1.02234036,  0.4970906 ]),\n",
              " array([-0.88594163,  0.4590951 ]),\n",
              " array([-0.75568617,  0.41317781]),\n",
              " array([-0.63179919,  0.3611089 ]),\n",
              " array([-0.51448089,  0.30464048]),\n",
              " array([-0.40390346,  0.24548409]),\n",
              " array([-0.30020842,  0.18528918]),\n",
              " array([-0.20350426,  0.12562074]),\n",
              " array([-0.11386457,  0.06793529])]"
            ]
          },
          "metadata": {},
          "execution_count": 5
        }
      ]
    },
    {
      "cell_type": "code",
      "source": [],
      "metadata": {
        "id": "Cz5VWfktlcw2"
      },
      "execution_count": 5,
      "outputs": []
    }
  ]
}
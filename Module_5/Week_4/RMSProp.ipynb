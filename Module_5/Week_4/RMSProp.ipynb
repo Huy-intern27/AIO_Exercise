{
  "nbformat": 4,
  "nbformat_minor": 0,
  "metadata": {
    "colab": {
      "provenance": []
    },
    "kernelspec": {
      "name": "python3",
      "display_name": "Python 3"
    },
    "language_info": {
      "name": "python"
    }
  },
  "cells": [
    {
      "cell_type": "markdown",
      "source": [
        "##1. Giới thiệu bài tập\n",
        "Mục tiêu của bài tập là tìm điểm tối ưu (minimum) của hàm số $f(w_1, w_2) = 0.1w_1^2 + 2w_2^2$ sử dụng thuật toán RMSProp.\n",
        "\n",
        "##2. Thực hiện tính toán\n",
        "###2.1 Epoch 1\n",
        "- **STEP1**: Tính gradient $dW$:\n",
        "\n",
        "$\\frac{\\partial f}{\\partial w_1} = 0.2w_1, \\quad \\frac{\\partial f}{\\partial w_2} = 4w_2$\n",
        "\n",
        "- **STEP2**: Tính giá trị $S_{1, t}$ và $S_{2, t}$:\n",
        "\n",
        "$S_{1,t} = γS_{1,t-1} + (1 - γ)(0.2w_1)^2$\n",
        "\n",
        "$S_{2, t} = γS_{2, t-1} + (1 - γ)(4w_2)^2$\n",
        "\n",
        "- **STEP3**: Cập nhật $w_1$ và $w_2$:\n",
        "\n",
        "$w_1 = w_1 - \\alpha \\cdot \\frac{0.2w_1}{\\sqrt{S_{1, t} + ϵ}}$\n",
        "\n",
        "$w_2 = w_2 - \\alpha \\cdot \\frac{4w_2}{\\sqrt{S_{2, t} + \\epsilon}}$\n",
        "\n",
        "###2.2 Epoch 2\n",
        "- Thực hiện tính toán đối với $w_1$ và $w_2$ tương tự các bước **STEP1**, **STEP2** và **STEP3** như epoch 1."
      ],
      "metadata": {
        "id": "fpceQKiR1eJp"
      }
    },
    {
      "cell_type": "code",
      "source": [
        "import numpy as np"
      ],
      "metadata": {
        "id": "guzH3sn63-PG"
      },
      "execution_count": null,
      "outputs": []
    },
    {
      "cell_type": "code",
      "execution_count": null,
      "metadata": {
        "id": "TPCaX8Ut1BlA"
      },
      "outputs": [],
      "source": [
        "def df_w(W):\n",
        "  dw_1 = 0.2 * W[0]\n",
        "  dw_2 = 4 * W[1]\n",
        "  dW = np.array([dw_1, dw_2])\n",
        "  return dW"
      ]
    },
    {
      "cell_type": "code",
      "source": [
        "def RMSProp(W, dW, lr, S, gamma):\n",
        "  epsilon = 1e-6\n",
        "  S = gamma * S + (1 - gamma) * dW ** 2\n",
        "  W = W - lr * dW / np.sqrt(S + epsilon)\n",
        "  return W, S"
      ],
      "metadata": {
        "id": "qZb-ieZ93vgO"
      },
      "execution_count": null,
      "outputs": []
    },
    {
      "cell_type": "code",
      "source": [
        "def train_p1(RMSProp, lr, epochs):\n",
        "  W = np.array([-5, -2], dtype=np.float32)\n",
        "  S = np.array([0, 0], dtype=np.float32)\n",
        "  results = [W]\n",
        "  for epoch in range(epochs):\n",
        "    dW = df_w(W)\n",
        "    W, S = RMSProp(W, dW, lr, S, 0.9)\n",
        "    results.append(W)\n",
        "  return results"
      ],
      "metadata": {
        "id": "5XSpE_Ge4oBG"
      },
      "execution_count": null,
      "outputs": []
    },
    {
      "cell_type": "code",
      "source": [
        "results = train_p1(RMSProp, 0.3, 30)\n",
        "results"
      ],
      "metadata": {
        "colab": {
          "base_uri": "https://localhost:8080/"
        },
        "id": "4VwB5Hou5qku",
        "outputId": "81d93d02-649b-415a-a0a1-acc1ac70c1a6"
      },
      "execution_count": null,
      "outputs": [
        {
          "output_type": "execute_result",
          "data": {
            "text/plain": [
              "[array([-5., -2.], dtype=float32),\n",
              " array([-4.05132145, -1.05131678]),\n",
              " array([-3.43519754, -0.59152343]),\n",
              " array([-2.95893693, -0.3294394 ]),\n",
              " array([-2.56546289, -0.17756482]),\n",
              " array([-2.22920552, -0.09163256]),\n",
              " array([-1.93626752, -0.04494499]),\n",
              " array([-1.67817686, -0.02081423]),\n",
              " array([-1.44934985, -0.00903559]),\n",
              " array([-1.24588199, -0.00364591]),\n",
              " array([-1.06490301, -0.00135351]),\n",
              " array([-9.04202260e-01, -4.56444431e-04]),\n",
              " array([-7.61996495e-01, -1.37562928e-04]),\n",
              " array([-6.36778499e-01, -3.62601019e-05]),\n",
              " array([-5.27215237e-01, -8.11337456e-06]),\n",
              " array([-4.32078505e-01, -1.47473412e-06]),\n",
              " array([-3.50198507e-01, -2.02783991e-07]),\n",
              " array([-2.80434649e-01, -1.84231187e-08]),\n",
              " array([-2.21659834e-01, -7.67742748e-10]),\n",
              " array([-1.72755512e-01,  7.80451998e-12]),\n",
              " array([-1.32615134e-01, -5.05794800e-13]),\n",
              " array([-1.00153779e-01,  6.19123501e-14]),\n",
              " array([-7.43217708e-02, -1.13373781e-14]),\n",
              " array([-5.41201278e-02,  2.80166702e-15]),\n",
              " array([-3.86159157e-02, -8.81341191e-16]),\n",
              " array([-2.69558066e-02,  3.39921117e-16]),\n",
              " array([-1.83765633e-02, -1.56581731e-16]),\n",
              " array([-1.22116093e-02,  8.44994985e-17]),\n",
              " array([-7.89331794e-03, -5.26376595e-17]),\n",
              " array([-4.95110261e-03,  3.74107995e-17]),\n",
              " array([-3.00577081e-03, -3.00506084e-17])]"
            ]
          },
          "metadata": {},
          "execution_count": 5
        }
      ]
    }
  ]
}
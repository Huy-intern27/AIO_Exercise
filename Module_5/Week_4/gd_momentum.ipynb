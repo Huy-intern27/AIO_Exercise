{
  "nbformat": 4,
  "nbformat_minor": 0,
  "metadata": {
    "colab": {
      "provenance": []
    },
    "kernelspec": {
      "name": "python3",
      "display_name": "Python 3"
    },
    "language_info": {
      "name": "python"
    }
  },
  "cells": [
    {
      "cell_type": "markdown",
      "source": [
        "##1. Giới thiệu bài tập\n",
        "Mục tiêu của bài tập là tìm điểm tối ưu (minimum) của hàm số $f(w_1, w_2) = 0.1w_1^2 + 2w_2^2$ sử dụng thuật toán Gradient Descent + Momentum.\n",
        "\n",
        "##2. Thực hiện tính toán\n",
        "###2.1 Epoch 1\n",
        "- **STEP1**: Tính gradient $dW$:\n",
        "\n",
        "$\\frac{\\partial f}{\\partial w_1} = 0.2w_1, \\quad \\frac{\\partial f}{\\partial w_2} = 4w_2$\n",
        "\n",
        "- **STEP2**: Tính giá trị $V_{1, t}$ và $V_{2, t}$:\n",
        "\n",
        "$V_{1, t} = βV_{1, t-1} + (1 - β)0.2w_1$\n",
        "\n",
        "$V_{2, t} = βV_{2, t-1} + (1 - β)4w_1$\n",
        "\n",
        "- **STEP3**: Cập nhật $w_1$ và $w_2$:\n",
        "\n",
        "$w_1 = w_1 - α ⋅ V_{1, t}$\n",
        "\n",
        "$w_2 = w_2 - α ⋅ V_{2, t}$\n",
        "\n",
        "###2.2 Epoch 2\n",
        "- Thực hiện tính toán đối với $w_1$ và $w_2$ tương tự các bước **STEP1**, **STEP2** và **STEP3** như epoch 1."
      ],
      "metadata": {
        "id": "Lt5L_DO0rsOY"
      }
    },
    {
      "cell_type": "code",
      "source": [
        "import numpy as np"
      ],
      "metadata": {
        "id": "VYZcFs26yPxw"
      },
      "execution_count": null,
      "outputs": []
    },
    {
      "cell_type": "code",
      "execution_count": null,
      "metadata": {
        "id": "k33fY5YrrLL3"
      },
      "outputs": [],
      "source": [
        "def df_w(W):\n",
        "  dw_1 = 0.2 * W[0]\n",
        "  dw_2 = 4 * W[1]\n",
        "  dW = np.array([dw_1, dw_2])\n",
        "  return dW"
      ]
    },
    {
      "cell_type": "code",
      "source": [
        "def sgd_momentum(W, dW, lr, V, beta):\n",
        "  V = beta * V + (1 - beta) * dW\n",
        "  W = W - lr * V\n",
        "  return W, V"
      ],
      "metadata": {
        "id": "Vt6sLTSFyL90"
      },
      "execution_count": null,
      "outputs": []
    },
    {
      "cell_type": "code",
      "source": [
        "def train_p1(sgd_momentum, lr, epochs):\n",
        "  W = np.array([-5, -2], dtype=np.float32)\n",
        "  V = np.array([0, 0], dtype=np.float32)\n",
        "  results = [W]\n",
        "  for epoch in range(epochs):\n",
        "    dW = df_w(W)\n",
        "    W, V = sgd_momentum(W, dW, lr, V, 0.5)\n",
        "    results.append(W)\n",
        "  return results"
      ],
      "metadata": {
        "id": "eqInSbQizXo3"
      },
      "execution_count": null,
      "outputs": []
    },
    {
      "cell_type": "code",
      "source": [
        "results = train_p1(sgd_momentum, 0.6, 30)"
      ],
      "metadata": {
        "id": "ZVyVa2oO0hWB"
      },
      "execution_count": null,
      "outputs": []
    },
    {
      "cell_type": "code",
      "source": [
        "results"
      ],
      "metadata": {
        "colab": {
          "base_uri": "https://localhost:8080/"
        },
        "id": "EYh7J0Es0ptR",
        "outputId": "f6642a38-bf95-4067-fcfd-2fbc0336d276"
      },
      "execution_count": null,
      "outputs": [
        {
          "output_type": "execute_result",
          "data": {
            "text/plain": [
              "[array([-5., -2.], dtype=float32),\n",
              " array([-4.7,  0.4]),\n",
              " array([-4.268,  1.12 ]),\n",
              " array([-3.79592,  0.136  ]),\n",
              " array([-3.3321248, -0.5192   ]),\n",
              " array([-2.90029971, -0.22376   ]),\n",
              " array([-2.51036919,  0.192472  ]),\n",
              " array([-2.16478177,  0.1696216 ]),\n",
              " array([-1.86210116, -0.04534952]),\n",
              " array([-1.59903478, -0.09841566]),\n",
              " array([-1.37155951, -0.00684994]),\n",
              " array([-1.1755283 ,  0.04715285]),\n",
              " array([-1.006981  ,  0.01757082]),\n",
              " array([-0.86228849, -0.01830518]),\n",
              " array([-0.73820492, -0.01427696]),\n",
              " array([-0.63187084,  0.0048695 ]),\n",
              " array([-0.54079155,  0.00859933]),\n",
              " array([-4.62804416e-01,  1.45050014e-04]),\n",
              " array([-0.39604258, -0.00425615]),\n",
              " array([-0.33889911, -0.00134937]),\n",
              " array([-0.28999343,  0.00172326]),\n",
              " array([-0.24814098,  0.00119166]),\n",
              " array([-0.2123263 , -0.00050413]),\n",
              " array([-0.18167938, -0.00074707]),\n",
              " array([-1.55455157e-01,  2.79448010e-05]),\n",
              " array([-0.13301574,  0.00038192]),\n",
              " array([-1.13815082e-01,  1.00603444e-04]),\n",
              " array([-0.09738585, -0.00016078]),\n",
              " array([-8.33280829e-02, -9.85353344e-05]),\n",
              " array([-7.12995144e-02,  5.08287536e-05]),\n",
              " array([-6.10072592e-02,  6.45162933e-05])]"
            ]
          },
          "metadata": {},
          "execution_count": 6
        }
      ]
    }
  ]
}
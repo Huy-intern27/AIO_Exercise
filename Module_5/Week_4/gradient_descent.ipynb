{
  "nbformat": 4,
  "nbformat_minor": 0,
  "metadata": {
    "colab": {
      "provenance": []
    },
    "kernelspec": {
      "name": "python3",
      "display_name": "Python 3"
    },
    "language_info": {
      "name": "python"
    }
  },
  "cells": [
    {
      "cell_type": "markdown",
      "source": [
        "## 1. Giới thiệu bài tập\n",
        "Mục tiêu bài tập là tìm điểm tối ưu (minimum) của hàm số: $f(w_1, w_2) = 0.1w_1^2 + 2w_2^2$ sử dụng thuật toán Gradient Descent với 2 epoch.\n",
        "\n",
        "## 2. Thực hiện bài toán\n",
        "\n",
        "### 2.1. Epoch 1\n",
        "- **STEP 1**: Tính gradient $dW$:\n",
        "\n",
        "$\\frac{\\partial f}{\\partial w_1} = 0.2w_1, \\quad \\frac{\\partial f}{\\partial w_2} = 4w_2$\n",
        "\n",
        "- **STEP 2**: Cập nhật $w_1$ và $w_2$:\n",
        "\n",
        "$w_1 = w_1 - α ⋅ 0.2w_1$\n",
        "\n",
        "$w_2 = w_2 - α \\cdot 4w_2$\n",
        "\n",
        "### 2.2. Epoch 2\n",
        "- **STEP 1**: Sử dụng giá trị $w_1$ và $w_2$ đã cập nhật từ Epoch 1, tiếp tục tính gradient $dW$.\n",
        "- **STEP 2**: Tiếp tục cập nhập $w_1$ và $w_2$ theo công thức thuật toán Gradient Descent.\n",
        "\n",
        "## 3. Kết quả\n",
        "- Giá trị $(w_1, w_2)$ sau từng epoch.\n",
        "- Giá trị hàm số $f(w_1, w_2)$ sau từng epoch.\n"
      ],
      "metadata": {
        "id": "xT5pBUSYXxzh"
      }
    },
    {
      "cell_type": "code",
      "source": [
        "import numpy as np"
      ],
      "metadata": {
        "id": "E9Duv4EwhoqK"
      },
      "execution_count": null,
      "outputs": []
    },
    {
      "cell_type": "code",
      "execution_count": null,
      "metadata": {
        "id": "4AXLXwi9XxHk"
      },
      "outputs": [],
      "source": [
        "def df_w(W):\n",
        "  dw_1 = 0.2 * W[0]\n",
        "  dw_2 = 4 * W[1]\n",
        "  dW = np.array([dw_1, dw_2])\n",
        "  return dW"
      ]
    },
    {
      "cell_type": "code",
      "source": [
        "def SGD(W, dW, lr):\n",
        "  W = W - lr * dW\n",
        "  return W"
      ],
      "metadata": {
        "id": "HxUmgK_IhgGc"
      },
      "execution_count": null,
      "outputs": []
    },
    {
      "cell_type": "code",
      "source": [
        "def train_p1(SGD, lr, epochs):\n",
        "  W = np.array([-5, -2], dtype=np.float32)\n",
        "  results = [W]\n",
        "\n",
        "  for epoch in range(epochs):\n",
        "    dW = df_w(W)\n",
        "    W = SGD(W, dW, lr)\n",
        "    results.append(W)\n",
        "\n",
        "  return results"
      ],
      "metadata": {
        "id": "00HnYRWAh2w4"
      },
      "execution_count": null,
      "outputs": []
    },
    {
      "cell_type": "code",
      "source": [
        "results = train_p1(SGD, 0.4, 30)\n",
        "results"
      ],
      "metadata": {
        "colab": {
          "base_uri": "https://localhost:8080/"
        },
        "id": "bVFCP-Gi0taH",
        "outputId": "00db9dae-a519-4b06-8e02-67acbf819b95"
      },
      "execution_count": null,
      "outputs": [
        {
          "output_type": "execute_result",
          "data": {
            "text/plain": [
              "[array([-5., -2.], dtype=float32),\n",
              " array([-4.6,  1.2]),\n",
              " array([-4.232, -0.72 ]),\n",
              " array([-3.89344,  0.432  ]),\n",
              " array([-3.5819648, -0.2592   ]),\n",
              " array([-3.29540762,  0.15552   ]),\n",
              " array([-3.03177501, -0.093312  ]),\n",
              " array([-2.78923301,  0.0559872 ]),\n",
              " array([-2.56609437, -0.03359232]),\n",
              " array([-2.36080682,  0.02015539]),\n",
              " array([-2.17194227, -0.01209324]),\n",
              " array([-1.99818689,  0.00725594]),\n",
              " array([-1.83833194, -0.00435356]),\n",
              " array([-1.69126538,  0.00261214]),\n",
              " array([-1.55596415, -0.00156728]),\n",
              " array([-1.43148702e+00,  9.40369969e-04]),\n",
              " array([-1.31696806e+00, -5.64221981e-04]),\n",
              " array([-1.21161061e+00,  3.38533189e-04]),\n",
              " array([-1.11468176e+00, -2.03119913e-04]),\n",
              " array([-1.02550722e+00,  1.21871948e-04]),\n",
              " array([-9.43466646e-01, -7.31231688e-05]),\n",
              " array([-8.67989314e-01,  4.38739013e-05]),\n",
              " array([-7.98550169e-01, -2.63243408e-05]),\n",
              " array([-7.34666155e-01,  1.57946045e-05]),\n",
              " array([-6.75892863e-01, -9.47676268e-06]),\n",
              " array([-6.21821434e-01,  5.68605761e-06]),\n",
              " array([-5.72075719e-01, -3.41163456e-06]),\n",
              " array([-5.26309662e-01,  2.04698074e-06]),\n",
              " array([-4.84204889e-01, -1.22818844e-06]),\n",
              " array([-4.45468498e-01,  7.36913066e-07]),\n",
              " array([-4.09831018e-01, -4.42147839e-07])]"
            ]
          },
          "metadata": {},
          "execution_count": 6
        }
      ]
    },
    {
      "cell_type": "code",
      "source": [],
      "metadata": {
        "id": "V68PuNlxoi7k"
      },
      "execution_count": null,
      "outputs": []
    }
  ]
}